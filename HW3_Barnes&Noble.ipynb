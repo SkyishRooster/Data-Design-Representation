{
 "cells": [
  {
   "cell_type": "code",
   "execution_count": 1,
   "id": "78c6bb5b",
   "metadata": {},
   "outputs": [],
   "source": [
    "from bs4 import BeautifulSoup\n",
    "import requests\n",
    "import regex as re\n",
    "import time"
   ]
  },
  {
   "cell_type": "markdown",
   "id": "383a133f",
   "metadata": {},
   "source": [
    "### a) Use the URL identified above and write code that loads the first page with 40 items per page of “B&N Top 100”."
   ]
  },
  {
   "cell_type": "code",
   "execution_count": 2,
   "id": "cae08f59",
   "metadata": {},
   "outputs": [],
   "source": [
    "url = \"https://www.barnesandnoble.com/b/books/_/N-1fZ29Z8q8?Nrpp=40&page=1\"\n",
    "headers = {\"User-Agent\": \"Mozilla/5.0\"}\n",
    "page = requests.get(url, headers = headers)\n",
    "soup = BeautifulSoup(page.text, 'html.parser')"
   ]
  },
  {
   "cell_type": "markdown",
   "id": "b558b41b",
   "metadata": {},
   "source": [
    "### b) Take your code in (a) and create a list of each book’s product page URL. This list should be of length 40."
   ]
  },
  {
   "cell_type": "code",
   "execution_count": 3,
   "id": "6c59e07f",
   "metadata": {},
   "outputs": [
    {
     "name": "stdout",
     "output_type": "stream",
     "text": [
      "The length of the list: 40\n",
      "First 5 links of the list:\n",
      "https://www.barnesandnoble.com/w/spare-prince-harry-the-duke-of-sussex/1142564630?ean=9780593593806\n",
      "https://www.barnesandnoble.com/w/if-he-had-been-with-me-laura-nowlin/1112689781?ean=9781728205489\n",
      "https://www.barnesandnoble.com/w/the-only-one-left-riley-sager/1142297823?ean=9780593474594\n",
      "https://www.barnesandnoble.com/w/lessons-in-chemistry-bonnie-garmus/1139798102?ean=9780385549400\n",
      "https://www.barnesandnoble.com/w/the-way-i-used-to-be-amber-smith/1122088306?ean=9781481449366\n"
     ]
    }
   ],
   "source": [
    "book_links = []\n",
    "\n",
    "raw = soup.select(\"h3.product-info-title a\")\n",
    "for i in raw:\n",
    "    link_0 = \"https://www.barnesandnoble.com\"\n",
    "    link_1 = re.findall('(^.*?);', i['href'])[0]\n",
    "    link_2 = re.findall('.*?(\\?.*$)', i['href'])[0]\n",
    "    book_links.append(link_0 + link_1 + link_2)\n",
    "\n",
    "print(\"The length of the list:\", len(book_links))\n",
    "\n",
    "print(\"First 5 links of the list:\")\n",
    "for i in range(5):\n",
    "    print(book_links[i])\n",
    "    i+=1"
   ]
  },
  {
   "cell_type": "markdown",
   "id": "6739bb3b",
   "metadata": {},
   "source": [
    "### c) Write a loop that downloads each product page of the top 40 books in “B&N Top 100”. e., save each of these pages to your computer using a meaningful filename (e.g., \"bn_top100_01.htm\"). IMPORTANT: Each page request needs to be followed by at least a 5 second pause!  Remember, you want your program to mimic your behavior as a human and help you make good purchasing decisions."
   ]
  },
  {
   "cell_type": "code",
   "execution_count": 5,
   "id": "f37408c0",
   "metadata": {},
   "outputs": [],
   "source": [
    "num = 0\n",
    "\n",
    "while num < 40:\n",
    "    url0 = book_links[num]\n",
    "    page0 = requests.get(url0, headers = {\"User-Agent\": \"Mozilla/5.0\"})\n",
    "    soup0 = BeautifulSoup(page0.text, \"html.parser\")\n",
    "    with open(\"pages/bn_top100_{0}.html\".format(str(num+1).zfill(2)), \"w\", encoding = \"utf-8\") as file:\n",
    "        file.write(str(soup0.prettify()))\n",
    "    num += 1\n",
    "    time.sleep(6)\n",
    "    "
   ]
  },
  {
   "cell_type": "markdown",
   "id": "83af859e",
   "metadata": {},
   "source": [
    "### d) Write a separate piece of code that loops through the pages you downloaded in (c), opens and parses them into a Python or Java xxxxsoup-object. Next, access the “Overview” section of the page and print the first 100 characters of the overview text to screen."
   ]
  },
  {
   "cell_type": "code",
   "execution_count": 87,
   "id": "f86a5715",
   "metadata": {},
   "outputs": [
    {
     "name": "stdout",
     "output_type": "stream",
     "text": [
      "Overview of page 01 (first 100 characters):\n",
      "#1 NEW YORK TIMES BESTSELLER It was one of the most searing images of the twentieth century: two you \n",
      "\n",
      "Overview of page 02 (first 100 characters):\n",
      "A New York Times Bestseller If he had been with me, everything would have been different... Autumn a \n",
      "\n",
      "Overview of page 03 (first 100 characters):\n",
      "This Barnes & Noble Exclusive Edition contains a bonus Q&A between Riley Sager and his long-time edi \n",
      "\n",
      "Overview of page 04 (first 100 characters):\n",
      "This Barnes & Noble Exclusive Edition includes an extra chapter, designed endpapers, and an intervie \n",
      "\n",
      "Overview of page 05 (first 100 characters):\n",
      "A New York Times bestseller. In the tradition of Speak, this extraordinary debut novel “is a poignan \n",
      "\n",
      "Overview of page 06 (first 100 characters):\n",
      "The instant #1 New York Times bestselling mystery and Reese Witherspoon Book Club pick that’s captiv \n",
      "\n",
      "Overview of page 07 (first 100 characters):\n",
      "In this “brave and heartbreaking novel that digs its claws into you and doesn’t let go, long after y \n",
      "\n",
      "Overview of page 08 (first 100 characters):\n",
      "Before It Ends with Us , it started with Atlas. Colleen Hoover tells fan favorite Atlas’s side of th \n",
      "\n",
      "Overview of page 09 (first 100 characters):\n",
      "The epic third novel in the #1 New York Times bestselling Court of Thorns and Roses series by Sarah  \n",
      "\n",
      "Overview of page 10 (first 100 characters):\n",
      "A steamy contemporary royal romance from BookTok sensation Ana Huang. Stoic, broody, and arrogant, e \n",
      "\n",
      "Overview of page 11 (first 100 characters):\n",
      "A diverse steamy enemies to lovers romance from BookTok sensation Ana Huang. Gorgeous, cocky, and fa \n",
      "\n",
      "Overview of page 12 (first 100 characters):\n",
      "The sexy, action-packed first book in the #1 New York Times bestselling Court of Thorns and Roses se \n",
      "\n",
      "Overview of page 13 (first 100 characters):\n",
      "The seductive and stunning #1 New York Times bestselling sequel to Sarah J. Maas’s spellbinding A Co \n",
      "\n",
      "Overview of page 14 (first 100 characters):\n",
      "The final book in the Twisted series from BookTok sensation Ana Huang, featuring fan favorites Chris \n",
      "\n",
      "Overview of page 15 (first 100 characters):\n",
      "BARNES & NOBLE'S SPECULATIVE FICTION BOOK OF THE YEAR FOR 2021 This Barnes and Noble Exclusive Editi \n",
      "\n",
      "Overview of page 16 (first 100 characters):\n",
      "He has a heart of ice…but for her, he'd burn the world A diverse new adult steamy romance from Tikto \n",
      "\n",
      "Overview of page 17 (first 100 characters):\n",
      "The perfect picture book to celebrate every milestone from the bestselling creators of Hello!Lucky! \n",
      "\n",
      "Overview of page 18 (first 100 characters):\n",
      "A tender addition to the #1 New York Times bestselling Court of Thorns and Roses series by Sarah J.  \n",
      "\n",
      "Overview of page 19 (first 100 characters):\n",
      "Years in the making, Sarah J. Maas's #1 New York Times bestselling Throne of Glass series draws to a \n",
      "\n",
      "Overview of page 20 (first 100 characters):\n",
      "James and Cordelia must save London—and their marriage—in this thrilling and highly anticipated conc \n",
      "\n",
      "Overview of page 21 (first 100 characters):\n",
      "Sarah J. Maas's sexy, richly imagined series continues with the journey of Feyre's fiery sister, Nes \n",
      "\n",
      "Overview of page 22 (first 100 characters):\n",
      "This Barnes & Noble Exclusive Edition features an alternate jacket and contains the author's persona \n",
      "\n",
      "Overview of page 23 (first 100 characters):\n",
      "#1 New York Times Bestseller USA Today Bestseller The Globe and Mail Bestseller Publishers Weekly Be \n",
      "\n",
      "Overview of page 24 (first 100 characters):\n",
      "This Barnes & Noble Exclusive Edition includes a unique cover and case stamp and will contain exclus \n",
      "\n",
      "Overview of page 25 (first 100 characters):\n",
      "An instant New York Times bestseller • A New York Times Notable Book of 2022 • Named a Best Book of  \n",
      "\n",
      "Overview of page 26 (first 100 characters):\n",
      "1.5 MILLION COPIES SOLD OF THE #1 BESTSELLING SERIES! New York Times bestselling \"impossible to put  \n",
      "\n",
      "Overview of page 27 (first 100 characters):\n",
      "This limited edition boxed set contains the B&N exclusive edition of A Magic Steeped in Poison and a \n",
      "\n",
      "Overview of page 28 (first 100 characters):\n",
      "NEW YORK TIMES BEST SELLER • WINNER OF THE GOODREADS CHOICE AWARD • Sam and Sadie—two college friend \n",
      "\n",
      "Overview of page 29 (first 100 characters):\n",
      "**THE INSTANT #1 NEW YORK TIMES BESTSELLER** \"An unforgettable—and Hollywood-bound—new thriller... A \n",
      "\n",
      "Overview of page 30 (first 100 characters):\n",
      "THE MUST-READ MULTIMILLION BESTSELLING MYSTERY SERIES• Everyone is talking about A Good Girl's Guide \n",
      "\n",
      "Overview of page 31 (first 100 characters):\n",
      "#1 NEW YORK TIMES BESTSELLER! Stephanie Garber’s THE BALLAD OF NEVER AFTER is the jaw-dropping seque \n",
      "\n",
      "Overview of page 32 (first 100 characters):\n",
      "NEW YORK TIMES BESTSELLER “If you ’ re looking for a book to take on holiday this summer, The Seven  \n",
      "\n",
      "Overview of page 33 (first 100 characters):\n",
      "The bestselling thriller with “a tantalizing premise and twists at every turn . . . a sizzling, mast \n",
      "\n",
      "Overview of page 34 (first 100 characters):\n",
      "1.5 MILLION COPIES SOLD OF THE #1 BESTSELLING SERIES! The Inheritance Games The Inheritance Games en \n",
      "\n",
      "Overview of page 35 (first 100 characters):\n",
      "In the next installment of the New York Times bestselling Throne of Glass series, follow Chaol on hi \n",
      "\n",
      "Overview of page 36 (first 100 characters):\n",
      "New York Times Bestseller New York Times bestselling author of Home Before Dark In this smart and ch \n",
      "\n",
      "Overview of page 37 (first 100 characters):\n",
      "This Barnes & Noble Exclusive Edition contains bonus content and features a unique cover! The adult  \n",
      "\n",
      "Overview of page 38 (first 100 characters):\n",
      "New York Times bestselling author Lucy Score brings you a grumpy/sunshine romance guaranteed to knoc \n",
      "\n",
      "Overview of page 39 (first 100 characters):\n",
      "From TikTok sensation Lauren Asher comes the final book in the Dreamland Billionaires series. Callah \n",
      "\n",
      "Overview of page 40 (first 100 characters):\n",
      "TO LIVE AND DREAM IS A WICKED DANCE. MY DREAMS OFTEN COME TRUE— A CURSE, AND A BLESSING. PAMELA ANDE \n",
      "\n"
     ]
    }
   ],
   "source": [
    "i = 0\n",
    "\n",
    "while i < 40:\n",
    "    filename = \"pages/bn_top100_{0}.html\".format(str(i+1).zfill(2))\n",
    "    soup0 = BeautifulSoup(open(filename, encoding = 'utf-8').read(), \"html.parser\")\n",
    "    raw0 = soup0.select(\"div.overview-cntnt\")        # select the overview div of each page\n",
    "    text = \"Overview of page {0} (first 100 characters):\\n\".format(str(i+1).zfill(2))\n",
    "    len0 = len(text)\n",
    "    ii = 0\n",
    "    for st in raw0:\n",
    "        para = re.findall(\">\\n +(.*?)\\n\", str(st))   # select all text within the overview div, separated in a list\n",
    "        for item in para:\n",
    "            item = item.replace(\"&amp;\", \"&\")\n",
    "            for ch in item:\n",
    "                text += ch\n",
    "                length = len(text) - len0\n",
    "                #print(length, text)\n",
    "                if length >= 100:\n",
    "                    break\n",
    "            text += \" \"\n",
    "            if length >= 99:\n",
    "                break\n",
    "        print(text, end='\\n\\n') \n",
    "    i += 1"
   ]
  }
 ],
 "metadata": {
  "kernelspec": {
   "display_name": "Python 3 (ipykernel)",
   "language": "python",
   "name": "python3"
  },
  "language_info": {
   "codemirror_mode": {
    "name": "ipython",
    "version": 3
   },
   "file_extension": ".py",
   "mimetype": "text/x-python",
   "name": "python",
   "nbconvert_exporter": "python",
   "pygments_lexer": "ipython3",
   "version": "3.9.13"
  }
 },
 "nbformat": 4,
 "nbformat_minor": 5
}
