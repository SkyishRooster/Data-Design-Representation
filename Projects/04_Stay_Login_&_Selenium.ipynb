{
 "cells": [
  {
   "attachments": {},
   "cell_type": "markdown",
   "id": "262493d7",
   "metadata": {},
   "source": [
    "## Part I Stay Logged In\n",
    "### 1. Access https://www.planespotters.net/user/login , read and store the cookies received in the response. Then parse the response and read the value of the hidden input field that are most likely to be required in the login process."
   ]
  },
  {
   "cell_type": "code",
   "execution_count": 72,
   "id": "eafea829",
   "metadata": {},
   "outputs": [],
   "source": [
    "#!pip install selenium"
   ]
  },
  {
   "cell_type": "code",
   "execution_count": 107,
   "id": "989093d0",
   "metadata": {},
   "outputs": [],
   "source": [
    "from bs4 import BeautifulSoup\n",
    "from selenium import webdriver\n",
    "from selenium.webdriver.common.keys import Keys\n",
    "from selenium.webdriver.common.by import By\n",
    "\n",
    "import time\n",
    "import requests"
   ]
  },
  {
   "cell_type": "code",
   "execution_count": 30,
   "id": "bb897abd",
   "metadata": {},
   "outputs": [],
   "source": [
    "# Get the soup object of the website\n",
    "url = \"https://www.planespotters.net/user/login\"\n",
    "\n",
    "headers = {\"user-agent\": \"Mozilla/5.0 (Windows NT 10.0; Win64; x64) AppleWebKit/537.36 (KHTML, like Gecko) Chrome/109.0.0.0 Safari/537.36\"}\n",
    "\n",
    "s = requests.Session()\n",
    "page = s.get(url, headers = headers)\n",
    "\n",
    "soup = BeautifulSoup(page.text, 'lxml')\n",
    "\n",
    "time.sleep(3)"
   ]
  },
  {
   "cell_type": "code",
   "execution_count": 31,
   "id": "0313da34",
   "metadata": {},
   "outputs": [
    {
     "data": {
      "text/plain": [
       "[<input id=\"username\" name=\"username\" placeholder=\"Username or E-Mail\" type=\"text\"/>,\n",
       " <input id=\"password\" name=\"password\" placeholder=\"Password\" type=\"password\"/>,\n",
       " <input id=\"csrf\" name=\"csrf\" type=\"hidden\" value=\"ckhiWXpvK1h4Wm9SUlN4RDljNFRaQT09\"/>,\n",
       " <input id=\"rid\" name=\"rid\" type=\"hidden\"/>,\n",
       " <input id=\"remember\" name=\"remember\" type=\"checkbox\" value=\"yes\"/>]"
      ]
     },
     "execution_count": 31,
     "metadata": {},
     "output_type": "execute_result"
    }
   ],
   "source": [
    "# Look for the required inputs\n",
    "inputs = soup.select(\"div.panel-body input\")\n",
    "inputs"
   ]
  },
  {
   "cell_type": "code",
   "execution_count": 32,
   "id": "9eec8ddd",
   "metadata": {},
   "outputs": [
    {
     "name": "stdout",
     "output_type": "stream",
     "text": [
      "csrf:\t ckhiWXpvK1h4Wm9SUlN4RDljNFRaQT09 \n",
      "rid:\t None\n"
     ]
    }
   ],
   "source": [
    "# Assign special input values\n",
    "csrf = soup.select(\"div.panel-body input#csrf\")[0].get(\"value\")\n",
    "rid = soup.select(\"div.panel-body input#rid\")[0].get(\"value\")\n",
    "print(\"csrf:\\t\", csrf, \"\\nrid:\\t\", rid)"
   ]
  },
  {
   "cell_type": "code",
   "execution_count": 33,
   "id": "96d915c3",
   "metadata": {},
   "outputs": [
    {
     "data": {
      "text/plain": [
       "{'__psuid': '29745e37ad451c3c2cf8dd229d7cb0ad',\n",
       " 'ps_sessid': 'cmUTp7GkARuUcgktCVBHZ2Jbjj'}"
      ]
     },
     "execution_count": 33,
     "metadata": {},
     "output_type": "execute_result"
    }
   ],
   "source": [
    "# Get the cookies\n",
    "cookies = s.cookies.get_dict()\n",
    "cookies"
   ]
  },
  {
   "attachments": {},
   "cell_type": "markdown",
   "id": "7a998d3d",
   "metadata": {},
   "source": [
    "### 2. Make a post request using the cookies from (1) as well as all required name-value-pairs"
   ]
  },
  {
   "cell_type": "code",
   "execution_count": 34,
   "id": "678ecc9f",
   "metadata": {},
   "outputs": [],
   "source": [
    "# username = applejack\n",
    "# password = Iloveapples\n",
    "\n",
    "data = {\n",
    "    \"username\": \"applejack\",\n",
    "    \"password\": \"Iloveapples\",\n",
    "    \"csrf\": csrf,\n",
    "    \"rid\": rid,\n",
    "    \"remember\": \"yes\"\n",
    "}\n",
    "\n",
    "res = s.post(url, data = data, headers = headers, cookies = cookies, timeout = 10)\n",
    "\n",
    "time.sleep(4)"
   ]
  },
  {
   "attachments": {},
   "cell_type": "markdown",
   "id": "604b4bc5",
   "metadata": {},
   "source": [
    "### 3. Get the cookies from the response of the post request and add them to the cookies from (1)."
   ]
  },
  {
   "cell_type": "code",
   "execution_count": 36,
   "id": "e7eb5267",
   "metadata": {},
   "outputs": [
    {
     "data": {
      "text/plain": [
       "{'__psuid': '29745e37ad451c3c2cf8dd229d7cb0ad',\n",
       " 'ps_rmt_1': 'lguj1qm7huyxb7fc%3A091ny6vss0zo3r6jfkhr0v1c7j1pevng',\n",
       " 'ps_sessid': 'e7P4VH2WWRF8z5sd6u3bbeBxi-'}"
      ]
     },
     "execution_count": 36,
     "metadata": {},
     "output_type": "execute_result"
    }
   ],
   "source": [
    "# Get the new cookies\n",
    "cookies_2 = s.cookies.get_dict()\n",
    "cookies_2"
   ]
  },
  {
   "cell_type": "code",
   "execution_count": 39,
   "id": "7feaca43",
   "metadata": {},
   "outputs": [
    {
     "data": {
      "text/plain": [
       "{'__psuid': '29745e37ad451c3c2cf8dd229d7cb0ad',\n",
       " 'ps_sessid': 'e7P4VH2WWRF8z5sd6u3bbeBxi-',\n",
       " 'ps_rmt_1': 'lguj1qm7huyxb7fc%3A091ny6vss0zo3r6jfkhr0v1c7j1pevng'}"
      ]
     },
     "execution_count": 39,
     "metadata": {},
     "output_type": "execute_result"
    }
   ],
   "source": [
    "# Combine the cookies\n",
    "cookies_3 = cookies.copy()\n",
    "cookies_3.update(cookies_2)\n",
    "cookies_3"
   ]
  },
  {
   "attachments": {},
   "cell_type": "markdown",
   "id": "085a09f2",
   "metadata": {},
   "source": [
    "### 4. Verifies if successfully logged in by accessing the profile page https://www.planespotters.net/member/profile with the saved cookies."
   ]
  },
  {
   "cell_type": "code",
   "execution_count": 43,
   "id": "5811b9a1",
   "metadata": {},
   "outputs": [],
   "source": [
    "# Get the new soup object\n",
    "url_v = \"https://www.planespotters.net/member/profile\"\n",
    "page_v = requests.get(url = url_v, cookies = cookies_3, headers = headers)\n",
    "soup_v = BeautifulSoup(page_v.text, 'lxml')\n",
    "\n",
    "time.sleep(3)"
   ]
  },
  {
   "cell_type": "code",
   "execution_count": 56,
   "id": "e75dc8f3",
   "metadata": {},
   "outputs": [
    {
     "name": "stdout",
     "output_type": "stream",
     "text": [
      "Success!\n"
     ]
    }
   ],
   "source": [
    "# Verify if I can log in successfully\n",
    "if \"profile\" in str(soup_v):\n",
    "    print(\"Success!\")\n",
    "else:\n",
    "    print(\"Keep trying!\")"
   ]
  },
  {
   "attachments": {},
   "cell_type": "markdown",
   "id": "01eb6ee6",
   "metadata": {},
   "source": [
    "## Part II Selenium\n",
    "### 1. Get Selenium to work on the system, navigate to google.com, and search for \"askew\" as well as \"google in 1998\" in separate search"
   ]
  },
  {
   "cell_type": "code",
   "execution_count": 105,
   "id": "58344781",
   "metadata": {},
   "outputs": [
    {
     "name": "stderr",
     "output_type": "stream",
     "text": [
      "C:\\Users\\59699\\AppData\\Local\\Temp\\ipykernel_2228\\3692539215.py:2: DeprecationWarning: executable_path has been deprecated, please pass in a Service object\n",
      "  driver = webdriver.Chrome(executable_path='C:\\ChromeDownloads\\chromedriver_win32\\chromedriver.exe')\n"
     ]
    }
   ],
   "source": [
    "# Get the driver work and navigate to google.com\n",
    "driver = webdriver.Chrome(executable_path='C:\\ChromeDownloads\\chromedriver_win32\\chromedriver.exe')\n",
    "driver.implicitly_wait(10)\n",
    "driver.set_script_timeout(120)\n",
    "driver.set_page_load_timeout(10)\n",
    "\n",
    "driver.get(\"https://google.com\")"
   ]
  },
  {
   "cell_type": "code",
   "execution_count": 109,
   "id": "2ffdbda0",
   "metadata": {},
   "outputs": [],
   "source": [
    "# Search for \"askew\"\n",
    "inp = driver.find_element(By.CSS_SELECTOR, \"input[type=text]\")\n",
    "\n",
    "inp.send_keys(\"askew\\n\")\n",
    "\n",
    "time.sleep(3)"
   ]
  },
  {
   "cell_type": "code",
   "execution_count": 110,
   "id": "8d47b179",
   "metadata": {},
   "outputs": [],
   "source": [
    "# Search for \"google in 1998\"\n",
    "inp = driver.find_element(By.CSS_SELECTOR, \"input[type=text]\")\n",
    "\n",
    "inp.clear()\n",
    "inp.send_keys(\"google in 1998\\n\")\n",
    "\n",
    "time.sleep(5)"
   ]
  },
  {
   "attachments": {},
   "cell_type": "markdown",
   "id": "04486f57",
   "metadata": {},
   "source": [
    "### 2. Go to bestbuy.com, click on Deal of the Day, read how much time is left for the Deal of the Day, and print the remaining time to screen. Then click on the Deal of the Day (the actual product), click on its reviews, and save the resulting HTML to the local hard drive as \"bestbuy_deal_of_the_day.htm\""
   ]
  },
  {
   "cell_type": "code",
   "execution_count": 111,
   "id": "734ae15d",
   "metadata": {},
   "outputs": [],
   "source": [
    "# Go to bestbuy.com\n",
    "driver.get(\"https://www.bestbuy.com/\")"
   ]
  },
  {
   "cell_type": "code",
   "execution_count": 112,
   "id": "b1e443ab",
   "metadata": {},
   "outputs": [],
   "source": [
    "# Click on Deal of the Day\n",
    "deal = driver.find_element(By.XPATH, \"//a[text()='Deal of the Day']\")\n",
    "deal.click()\n",
    "\n",
    "time.sleep(3)"
   ]
  },
  {
   "cell_type": "code",
   "execution_count": 113,
   "id": "6c5dce66",
   "metadata": {},
   "outputs": [
    {
     "name": "stdout",
     "output_type": "stream",
     "text": [
      "Sale expires in 19 hours and 52 minutes\n",
      "Exact remaining time:\n",
      "19 hour(s) 51 minute(s) 48 second(s)\n"
     ]
    }
   ],
   "source": [
    "# Read how much time is left for the Deal of the Day\n",
    "timeleft = driver.find_element(By.CSS_SELECTOR, \"div.sr-only.sale-timer\").text\n",
    "\n",
    "hour = driver.find_element(By.CSS_SELECTOR, \"span.hours.cdnumber\").text\n",
    "minute = driver.find_element(By.CSS_SELECTOR, \"span.minutes.cdnumber\").text\n",
    "second = driver.find_element(By.CSS_SELECTOR, \"span.seconds.cdnumber\").text\n",
    "\n",
    "# Print the remaining time to screen\n",
    "print(timeleft)\n",
    "print(\"Exact remaining time:\\n\" + hour, \"hour(s)\", minute, \"minute(s)\", second, \"second(s)\")"
   ]
  },
  {
   "cell_type": "code",
   "execution_count": 114,
   "id": "d9636aea",
   "metadata": {},
   "outputs": [],
   "source": [
    "# Click on the actual product\n",
    "prod = driver.find_element(By.TAG_NAME, 'h1')\n",
    "prod.click()\n",
    "\n",
    "time.sleep(3)"
   ]
  },
  {
   "cell_type": "code",
   "execution_count": 115,
   "id": "60074d36",
   "metadata": {},
   "outputs": [],
   "source": [
    "# Click on its reviews\n",
    "reviews = driver.find_element(By.CSS_SELECTOR, \"span.c-reviews.order-2\")\n",
    "reviews.click()"
   ]
  },
  {
   "cell_type": "code",
   "execution_count": 116,
   "id": "65c37167",
   "metadata": {},
   "outputs": [],
   "source": [
    "# Save the resulting HTML as \"bestbuy_deal_of_the_day.htm\"\n",
    "bb = driver.page_source\n",
    "with open (\"bestbuy_deal_of_the_day.htm\", \"w\", encoding = \"utf-8\") as file:\n",
    "    file.write(bb)\n",
    "\n",
    "driver.quit()"
   ]
  }
 ],
 "metadata": {
  "kernelspec": {
   "display_name": "Python 3 (ipykernel)",
   "language": "python",
   "name": "python3"
  },
  "language_info": {
   "codemirror_mode": {
    "name": "ipython",
    "version": 3
   },
   "file_extension": ".py",
   "mimetype": "text/x-python",
   "name": "python",
   "nbconvert_exporter": "python",
   "pygments_lexer": "ipython3",
   "version": "3.9.13"
  }
 },
 "nbformat": 4,
 "nbformat_minor": 5
}
