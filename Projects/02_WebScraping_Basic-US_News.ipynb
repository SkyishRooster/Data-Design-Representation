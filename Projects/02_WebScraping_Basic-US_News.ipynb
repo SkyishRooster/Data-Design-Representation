{
 "cells": [
  {
   "cell_type": "markdown",
   "id": "500c76bf",
   "metadata": {},
   "source": [
    "### 0. Load: \n",
    "https://www.tigerdirect.com/applications/SearchTools/item-details.asp?EdpNo=1501390 "
   ]
  },
  {
   "attachments": {},
   "cell_type": "markdown",
   "id": "ecb79f51",
   "metadata": {},
   "source": [
    "### 1. Use the browser's development tools to find a unique way to access its list price and its current price. "
   ]
  },
  {
   "cell_type": "code",
   "execution_count": 1,
   "id": "0afb7cb9",
   "metadata": {},
   "outputs": [],
   "source": [
    "# Install the parser library and regular expression\n",
    "#!pip install lxml\n",
    "#!pip install regex"
   ]
  },
  {
   "cell_type": "code",
   "execution_count": 2,
   "id": "2462c8d5",
   "metadata": {},
   "outputs": [],
   "source": [
    "from bs4 import BeautifulSoup\n",
    "import requests\n",
    "import regex as re"
   ]
  },
  {
   "cell_type": "code",
   "execution_count": 3,
   "id": "89d175b5",
   "metadata": {},
   "outputs": [],
   "source": [
    "# Specify the url of the website we are going to scrape\n",
    "url = \"https://www.tigerdirect.com/applications/SearchTools/item-details.asp?EdpNo=1501390\"\n",
    "\n",
    "# Get the user agent of the browser: http://httpbin.org/get\n",
    "headers = {\"User-Agent\": \"Mozilla/5.0\"}\n",
    "page = requests.get(url, headers = headers)"
   ]
  },
  {
   "cell_type": "code",
   "execution_count": 4,
   "id": "17112b31",
   "metadata": {},
   "outputs": [],
   "source": [
    "# Create a beautifulsoup object\n",
    "soup = BeautifulSoup(page.text, 'lxml')"
   ]
  },
  {
   "cell_type": "code",
   "execution_count": 5,
   "id": "79e0383a",
   "metadata": {},
   "outputs": [
    {
     "name": "stdout",
     "output_type": "stream",
     "text": [
      "<span class=\"sr-only\">$1,399\r\n",
      "          and 99 cents\r\n",
      "        </span>\n",
      "<span class=\"sr-only\">$1,029\r\n",
      "          and 99 cents\r\n",
      "        </span>\n"
     ]
    }
   ],
   "source": [
    "# Retrieve the list price and the current price\n",
    "list_price = soup.select(\"p.list-price > span.sr-only\")\n",
    "for i in list_price:\n",
    "    print(i)\n",
    "    \n",
    "current_price = soup.select(\"p.final-price > span.sale-price > span.sr-only\")\n",
    "for i in current_price:\n",
    "    print(i)"
   ]
  },
  {
   "cell_type": "code",
   "execution_count": 6,
   "id": "15a97972",
   "metadata": {},
   "outputs": [
    {
     "name": "stdout",
     "output_type": "stream",
     "text": [
      "<span class=\"sr-only\">$1,399\r\n",
      "          and 99 cents\r\n",
      "        </span>\n",
      "<span class=\"sr-only\">$1,029\r\n",
      "          and 99 cents\r\n",
      "        </span>\n"
     ]
    }
   ],
   "source": [
    "# Another way to get the two prices both at once\n",
    "prices = soup.select(\"div.pdp-price span.sr-only\")\n",
    "for i in prices:\n",
    "    print(i)"
   ]
  },
  {
   "cell_type": "markdown",
   "id": "f09363f6",
   "metadata": {},
   "source": [
    "### 2. Store the prices to strings."
   ]
  },
  {
   "cell_type": "code",
   "execution_count": 7,
   "id": "a7ac307d",
   "metadata": {},
   "outputs": [],
   "source": [
    "# Conver the retrieved file into strings\n",
    "list_price = str(list_price)\n",
    "current_price = str(current_price)"
   ]
  },
  {
   "cell_type": "code",
   "execution_count": 8,
   "id": "a26c742e",
   "metadata": {},
   "outputs": [
    {
     "data": {
      "text/plain": [
       "'[<span class=\"sr-only\">$1,399\\r\\n          and 99 cents\\r\\n        </span>]'"
      ]
     },
     "execution_count": 8,
     "metadata": {},
     "output_type": "execute_result"
    }
   ],
   "source": [
    "# View the retrieved file\n",
    "list_price"
   ]
  },
  {
   "cell_type": "markdown",
   "id": "70fe7c76",
   "metadata": {},
   "source": [
    "### 3.  Use Python's (or Java's) regex (!!) functionality to convert the prices to \"1234.56\" (no dollar sign, comma, just a \".\" separator for cents)"
   ]
  },
  {
   "cell_type": "code",
   "execution_count": 9,
   "id": "ade2bfce",
   "metadata": {},
   "outputs": [],
   "source": [
    "# Extract the elements of prices\n",
    "list_price_extracted = re.findall('([0-9,]+)', str(list_price))\n",
    "current_price_extracted = re.findall('([0-9,]+)', str(current_price))\n",
    "\n",
    "# Combine the elements\n",
    "list_price_converted = list_price_extracted[0].replace(',','') + \".\" + list_price_extracted[1]\n",
    "current_price_converted = current_price_extracted[0].replace(',','') + \".\" + current_price_extracted[1]"
   ]
  },
  {
   "cell_type": "markdown",
   "id": "285ce328",
   "metadata": {},
   "source": [
    "### 4.  Print both, the list price and the current price to screen / terminal"
   ]
  },
  {
   "cell_type": "code",
   "execution_count": 10,
   "id": "a8584065",
   "metadata": {},
   "outputs": [
    {
     "name": "stdout",
     "output_type": "stream",
     "text": [
      "List Price:\t 1399.99\n",
      "Current Price:\t 1029.99\n"
     ]
    }
   ],
   "source": [
    "# Print the prices\n",
    "print(\"List Price:\\t\", list_price_converted)\n",
    "print(\"Current Price:\\t\", current_price_converted)"
   ]
  },
  {
   "cell_type": "markdown",
   "id": "2b221dd6",
   "metadata": {},
   "source": [
    "### 5.   Write code that loads: https://www.usnews.com/"
   ]
  },
  {
   "cell_type": "code",
   "execution_count": 11,
   "id": "fce4fd33",
   "metadata": {},
   "outputs": [],
   "source": [
    "url_1 = \"https://www.usnews.com/\"\n",
    "page_1 = requests.get(url_1, headers = headers)"
   ]
  },
  {
   "cell_type": "code",
   "execution_count": 12,
   "id": "93c7764c",
   "metadata": {},
   "outputs": [],
   "source": [
    "soup_1 = BeautifulSoup(page_1.text, 'lxml')"
   ]
  },
  {
   "attachments": {},
   "cell_type": "markdown",
   "id": "381714ae",
   "metadata": {},
   "source": [
    "### 6. \"finds\" its current \"Top Stories\" "
   ]
  },
  {
   "cell_type": "code",
   "execution_count": 13,
   "id": "611b2ab6",
   "metadata": {},
   "outputs": [
    {
     "data": {
      "text/plain": [
       "{'Headings': ['McCarthy, Biden to Talk Amid Debt Threat',\n",
       "  'Existing Homes Fall 1.5% in December'],\n",
       " 'Links': ['https://www.usnews.com/news/politics/articles/2023-01-20/mccarthy-biden-agree-to-sit-down-over-debt-ceiling',\n",
       "  'https://www.usnews.com/news/economy/articles/2023-01-20/existing-homes-fall-1-5-in-december-marking-11th-month-of-declines']}"
      ]
     },
     "execution_count": 13,
     "metadata": {},
     "output_type": "execute_result"
    }
   ],
   "source": [
    "# Specify the anchor tag of \"Top Stories\"\n",
    "a = soup_1.select(\"div.Box-w0dun1-0.ArmRestTopStories__Part-s0vo7p-1.erkdnc.biVKSR h3 a\")\n",
    "\n",
    "# Create the dictionary for storing the infomation of top stories\n",
    "Top_Stories = {'Headings': [], 'Links': []}\n",
    "for i in a:\n",
    "    Top_Stories['Headings'].append(re.findall(\">(.*)<\", str(i))[0])\n",
    "    Top_Stories['Links'].append(i['href'])\n",
    "    \n",
    "Top_Stories"
   ]
  },
  {
   "cell_type": "markdown",
   "id": "db556247",
   "metadata": {},
   "source": [
    "### 7. Read + print the URL of the _second_ current top story to the screen (terminal)"
   ]
  },
  {
   "cell_type": "code",
   "execution_count": 14,
   "id": "4a9eaead",
   "metadata": {},
   "outputs": [
    {
     "data": {
      "text/plain": [
       "'https://www.usnews.com/news/economy/articles/2023-01-20/existing-homes-fall-1-5-in-december-marking-11th-month-of-declines'"
      ]
     },
     "execution_count": 14,
     "metadata": {},
     "output_type": "execute_result"
    }
   ],
   "source": [
    "url_second_story = Top_Stories['Links'][1]\n",
    "url_second_story"
   ]
  },
  {
   "cell_type": "markdown",
   "id": "1fcdfa1e",
   "metadata": {},
   "source": [
    "### 8. Load that page "
   ]
  },
  {
   "cell_type": "code",
   "execution_count": 15,
   "id": "0dc6a3c3",
   "metadata": {},
   "outputs": [],
   "source": [
    "page_2 = requests.get(url_second_story, headers = headers)\n",
    "soup_2 = BeautifulSoup(page_2.text, 'lxml')"
   ]
  },
  {
   "cell_type": "markdown",
   "id": "a979ec2d",
   "metadata": {},
   "source": [
    "### 9. Read + print the header as well as the first 3 sentences of the main body to the screen"
   ]
  },
  {
   "cell_type": "code",
   "execution_count": 16,
   "id": "1cd5bff6",
   "metadata": {},
   "outputs": [],
   "source": [
    "# Find the header and the main body\n",
    "header = soup_2.select(\"h1.Heading-sc-1w5xk2o-0.iQhOvV\")\n",
    "body = soup_2.select(\"div.Raw-slyvem-0.bCYKCn p\")"
   ]
  },
  {
   "cell_type": "code",
   "execution_count": 17,
   "id": "6b87178c",
   "metadata": {},
   "outputs": [],
   "source": [
    "# Convert elements in body into strings and store in a list\n",
    "raw = []\n",
    "for i in body: \n",
    "    raw.append(str(i))\n",
    "\n",
    "# Split the main body into paragraphs\n",
    "para = []\n",
    "for i in raw:\n",
    "    kk = re.findall('>(.*?)<', i[:])\n",
    "    if kk != ['']:\n",
    "        para.append(kk[0])"
   ]
  },
  {
   "cell_type": "code",
   "execution_count": 18,
   "id": "fae5fb4e",
   "metadata": {},
   "outputs": [
    {
     "data": {
      "text/plain": [
       "['Sales of existing homes slid 1.5% in December, somewhat better than expected but the 11th straight month of decline, the National Association of Realtors said on Friday.',\n",
       " 'The number was better than estimates of a 3.4% drop and brings the annual rate of home sales just a hair above 4 million.',\n",
       " ' Sales are now down 34% from year-ago levels.']"
      ]
     },
     "execution_count": 18,
     "metadata": {},
     "output_type": "execute_result"
    }
   ],
   "source": [
    "# Get the first 3 sentences of the main body\n",
    "sentences = []\n",
    "num = 0\n",
    "\n",
    "for i in para:\n",
    "    \n",
    "    kk = re.findall(\"(.*?[a-z]\\.)\", i)\n",
    "    num += len(kk)\n",
    "    for i in kk:\n",
    "        sentences.append(i)\n",
    "        \n",
    "    if num == 3:\n",
    "        break\n",
    "\n",
    "sentences"
   ]
  },
  {
   "cell_type": "code",
   "execution_count": 19,
   "id": "62f0c019",
   "metadata": {},
   "outputs": [
    {
     "name": "stdout",
     "output_type": "stream",
     "text": [
      "Header: Existing Homes Fall 1.5% in December, Marking 11th Month of Declines\n",
      "Sentence 1: Sales of existing homes slid 1.5% in December, somewhat better than expected but the 11th straight month of decline, the National Association of Realtors said on Friday.\n",
      "Sentence 2: The number was better than estimates of a 3.4% drop and brings the annual rate of home sales just a hair above 4 million.\n",
      "Sentence 3: Sales are now down 34% from year-ago levels.\n"
     ]
    }
   ],
   "source": [
    "# Print out\n",
    "print(\"Header: \" + re.findall(\">(.*)<\", str(header))[0])\n",
    "\n",
    "for i in range(len(sentences)):\n",
    "    print(\"Sentence \" + str(i+1) + \": \" + sentences[i].strip())"
   ]
  }
 ],
 "metadata": {
  "kernelspec": {
   "display_name": "Python 3 (ipykernel)",
   "language": "python",
   "name": "python3"
  },
  "language_info": {
   "codemirror_mode": {
    "name": "ipython",
    "version": 3
   },
   "file_extension": ".py",
   "mimetype": "text/x-python",
   "name": "python",
   "nbconvert_exporter": "python",
   "pygments_lexer": "ipython3",
   "version": "3.9.13"
  }
 },
 "nbformat": 4,
 "nbformat_minor": 5
}
