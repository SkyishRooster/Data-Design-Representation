{
 "cells": [
  {
   "cell_type": "markdown",
   "id": "35ff8284",
   "metadata": {},
   "source": [
    "The format of \"reviews_electronics.16.json\" is:\n",
    "- reviewerID - ID of the reviewer, e.g. A2SUAM1J3GNN3B\n",
    "- asin - ID of the product, e.g. 0000013714\n",
    "- reviewerName - name of the reviewer\n",
    "- helpful - helpfulness rating of the review, e.g. 2/3\n",
    "- reviewText - text of the review\n",
    "- overall - rating of the product\n",
    "- summary - summary of the review\n",
    "- unixReviewTime - time of the review"
   ]
  },
  {
   "cell_type": "code",
   "execution_count": 14,
   "id": "e7eafd55",
   "metadata": {},
   "outputs": [],
   "source": [
    "from pymongo import MongoClient\n",
    "from bson.code import Code\n",
    "from bson.son import SON\n",
    "\n",
    "import json"
   ]
  },
  {
   "attachments": {},
   "cell_type": "markdown",
   "id": "f24ffc56",
   "metadata": {},
   "source": [
    "### 1. Create a MongoDB DB called \"amazon\""
   ]
  },
  {
   "cell_type": "code",
   "execution_count": 15,
   "id": "a4bf232e",
   "metadata": {
    "scrolled": true
   },
   "outputs": [
    {
     "name": "stdout",
     "output_type": "stream",
     "text": [
      "{\"reviewerID\": \"AKM1MP6P0OYPR\", \"asin\": \"0132793040\", \"reviewerName\": \"Vicki Gibson \\\"momo4\\\"\", \"helpful\": [1, 1], \"reviewText\": \"Corey Barker does a great job of explaining Blend Modes in this DVD. All of the Kelby training videos are great but pricey to buy individually. If you really want bang for your buck just subscribe to Kelby Training online.\", \"overall\": 5.0, \"summary\": \"Very thorough\", \"unixReviewTime\": 1365811200, \"reviewTime\": \"04 13, 2013\"}\n",
      "\n",
      "{\"reviewerID\": \"A2X8VX4DPMQFQQ\", \"asin\": \"B00E4KP4W6\", \"reviewerName\": \"lily68\", \"helpful\": [1, 1], \"reviewText\": \"I can't believe I waited to long to switch to a glass screen protector.  I love this.  It feels and looks like there is no protector on.  It does show fingerprints, which I think is inevitable unless you use a matte finish screen protector, but they wipe right away. I would definitely recommend this! Easier to apply than the films too!\", \"overall\": 5.0, \"summary\": \"LOVE this screen protector!!\", \"unixReviewTime\": 1393459200, \"reviewTime\": \"02 27, 2014\"}\n",
      "\n",
      "{\"reviewerID\": \"A1JEKX4D58576X\", \"asin\": \"B00E4KP4W6\", \"reviewerName\": \"Mara Milagros\", \"helpful\": [2, 2], \"reviewText\": \"presentation of product is beautiful, everything is perfect! And my iPad screen seems to be really protected. I recommend it.\", \"overall\": 5.0, \"summary\": \"excellent\", \"unixReviewTime\": 1394496000, \"reviewTime\": \"03 11, 2014\"}\n",
      "\n"
     ]
    }
   ],
   "source": [
    "# Read the first 3 lines of the json file\n",
    "ii = 1\n",
    "with open (\"reviews_electronics.16.json\", \"r\", encoding = \"utf-8\") as file:\n",
    "    for i in file:\n",
    "        print(i)\n",
    "        ii += 1\n",
    "        if ii > 3:\n",
    "            break"
   ]
  },
  {
   "cell_type": "code",
   "execution_count": 16,
   "id": "86a8ef9e",
   "metadata": {},
   "outputs": [],
   "source": [
    "# Connect to the server\n",
    "client = MongoClient('localhost', 27017)\n",
    "\n",
    "# Create the \"amazon\" database\n",
    "db = client[\"amazon\"]\n",
    "\n",
    "# Access to the \"reviews\" collection\n",
    "collection_reviews = db[\"reviews\"]"
   ]
  },
  {
   "attachments": {},
   "cell_type": "markdown",
   "id": "be25c700",
   "metadata": {},
   "source": [
    "### 2. Read \"reviews_electronics.16.json\" and uploads each review as a separate document to the collection \"reviews\" in the DB \"amazon\"."
   ]
  },
  {
   "cell_type": "code",
   "execution_count": 17,
   "id": "d85d757e",
   "metadata": {},
   "outputs": [],
   "source": [
    "# Insert every single review to the database\n",
    "with open (\"reviews_electronics.16.json\", \"r\", encoding = \"utf-8\") as file:\n",
    "    for i in file:\n",
    "        doc = json.loads(i)\n",
    "        collection_reviews.insert_one(doc)"
   ]
  },
  {
   "cell_type": "code",
   "execution_count": 18,
   "id": "8682a4f5",
   "metadata": {},
   "outputs": [
    {
     "name": "stdout",
     "output_type": "stream",
     "text": [
      "{'_id': ObjectId('641b70b50a7a5cb87e7ba395'), 'reviewerID': 'AKM1MP6P0OYPR', 'asin': '0132793040', 'reviewerName': 'Vicki Gibson \"momo4\"', 'helpful': [1, 1], 'reviewText': 'Corey Barker does a great job of explaining Blend Modes in this DVD. All of the Kelby training videos are great but pricey to buy individually. If you really want bang for your buck just subscribe to Kelby Training online.', 'overall': 5.0, 'summary': 'Very thorough', 'unixReviewTime': 1365811200, 'reviewTime': '04 13, 2013'}\n",
      "{'_id': ObjectId('641b70b50a7a5cb87e7ba396'), 'reviewerID': 'A2X8VX4DPMQFQQ', 'asin': 'B00E4KP4W6', 'reviewerName': 'lily68', 'helpful': [1, 1], 'reviewText': \"I can't believe I waited to long to switch to a glass screen protector.  I love this.  It feels and looks like there is no protector on.  It does show fingerprints, which I think is inevitable unless you use a matte finish screen protector, but they wipe right away. I would definitely recommend this! Easier to apply than the films too!\", 'overall': 5.0, 'summary': 'LOVE this screen protector!!', 'unixReviewTime': 1393459200, 'reviewTime': '02 27, 2014'}\n",
      "{'_id': ObjectId('641b70b50a7a5cb87e7ba397'), 'reviewerID': 'A1JEKX4D58576X', 'asin': 'B00E4KP4W6', 'reviewerName': 'Mara Milagros', 'helpful': [2, 2], 'reviewText': 'presentation of product is beautiful, everything is perfect! And my iPad screen seems to be really protected. I recommend it.', 'overall': 5.0, 'summary': 'excellent', 'unixReviewTime': 1394496000, 'reviewTime': '03 11, 2014'}\n"
     ]
    }
   ],
   "source": [
    "# Check if the reviews were inserted successfully\n",
    "cursor = collection_reviews.find({})\n",
    "ii = 1\n",
    "for i in cursor:\n",
    "    print(i)\n",
    "    ii += 1\n",
    "    if ii > 3:\n",
    "        break"
   ]
  },
  {
   "attachments": {},
   "cell_type": "markdown",
   "id": "e498549e",
   "metadata": {},
   "source": [
    "### 3. Use MongoDB's map reduce function to build a new collection \"avg_scores\" that averages review scores by product (\"asin\")"
   ]
  },
  {
   "cell_type": "code",
   "execution_count": 19,
   "id": "07b1ff20",
   "metadata": {},
   "outputs": [],
   "source": [
    "# Create the new collection \"avg_scores\" that averages review scores by product (\"asin\")\n",
    "mapf = Code('''function() { emit(this.asin, this.overall) }''')\n",
    "reducef = Code('''function(key, values) { return Array.avg(values) }''')\n",
    "\n",
    "cmd = {\n",
    "    'mapreduce': \"reviews\",\n",
    "    'map': mapf,\n",
    "    'reduce': reducef,\n",
    "    'out': \"avg_scores\"\n",
    "}\n",
    "\n",
    "\n",
    "result = db.command(SON(cmd))"
   ]
  },
  {
   "cell_type": "code",
   "execution_count": 20,
   "id": "1e3dd5a7",
   "metadata": {},
   "outputs": [
    {
     "name": "stdout",
     "output_type": "stream",
     "text": [
      "{'_id': 'B00F5GWYDK', 'value': 3.5}\n",
      "{'_id': 'B00H5BW43S', 'value': 3.0}\n",
      "{'_id': 'B00HJAEO1U', 'value': 3.5454545454545454}\n",
      "{'_id': 'B00GGG9VAM', 'value': 5.0}\n",
      "{'_id': 'B00EB70OV8', 'value': 4.12}\n",
      "{'_id': 'B00F4MU0KO', 'value': 3.9166666666666665}\n",
      "{'_id': 'B00ISFROFS', 'value': 5.0}\n",
      "{'_id': 'B00FCZZDG4', 'value': 4.0}\n",
      "{'_id': 'B00J8916C0', 'value': 5.0}\n",
      "{'_id': 'B00GPG6YBW', 'value': 4.0}\n"
     ]
    }
   ],
   "source": [
    "# Print the first 10 entries of \"avg_scores\" to screen.\n",
    "collection_avg_scores = db['avg_scores']\n",
    "\n",
    "cursor = collection_avg_scores.find({})\n",
    "\n",
    "ii = 0\n",
    "for i in cursor:\n",
    "    print(i)\n",
    "    ii += 1\n",
    "    if ii == 10:\n",
    "        break"
   ]
  },
  {
   "attachments": {},
   "cell_type": "markdown",
   "id": "4f0dd466",
   "metadata": {},
   "source": [
    "### 4. Use MongoDB's map reduce function to build a new collection \"weighted_avg_scores\" that averages review scores by product (\"asin\"), weighted by the number of votes + 1 (the second number + 1). "
   ]
  },
  {
   "cell_type": "code",
   "execution_count": null,
   "id": "47fd9f04",
   "metadata": {},
   "outputs": [],
   "source": [
    "# Build a new collection \"weighted_avg_scores\"\n",
    "# that averages review scores by product (\"asin\"), weighted by the number of votes + 1 (the second number + 1).\n",
    "mapf_w = Code('''function() { emit(this.asin, {value: this.overall, weight: this.helpful[1]}); }''')\n",
    "reducef_w = Code('''\n",
    "function (key, values) {\n",
    "    var sum = 0;\n",
    "    var weight_sum = 0;\n",
    "    values.forEach(function(doc) {\n",
    "        sum += doc.value * (doc.weight+1);\n",
    "        weight_sum += (doc.weight+1);\n",
    "    });\n",
    "    return sum / weight_sum;\n",
    "}\n",
    "''')\n",
    "\n",
    "cmd_w = {\n",
    "    'mapreduce': \"reviews\",\n",
    "    'map': mapf_w,\n",
    "    'reduce': reducef_w,\n",
    "    'out': \"weighted_avg_scores\"\n",
    "}\n",
    "\n",
    "\n",
    "result_w = db.command(SON(cmd_w))"
   ]
  },
  {
   "cell_type": "code",
   "execution_count": 22,
   "id": "de8ac9bd",
   "metadata": {},
   "outputs": [
    {
     "name": "stdout",
     "output_type": "stream",
     "text": [
      "{'_id': 'B00FYPHTGY', 'value': 4.0}\n",
      "{'_id': 'B00HWSXYRY', 'value': 5.0}\n",
      "{'_id': 'B00EV6WLNI', 'value': 4.826086956521739}\n",
      "{'_id': 'B00E4UZP3Y', 'value': 4.433333333333334}\n",
      "{'_id': 'B00F1CLD4O', 'value': 2.0}\n",
      "{'_id': 'B00GNSYD0G', 'value': 2.0}\n",
      "{'_id': 'B00FN9HWZE', 'value': 5.0}\n",
      "{'_id': 'B00HIW7HE0', 'value': 4.0}\n",
      "{'_id': 'B00GP3TZ3O', 'value': 2.888888888888889}\n",
      "{'_id': 'B00II5UKBI', 'value': 5.0}\n"
     ]
    }
   ],
   "source": [
    "# Print the first 10 entires of \"weighted_avg_scores\" to screen.\n",
    "collection_weighted_avg_scores = db['weighted_avg_scores']\n",
    "\n",
    "cursor = collection_weighted_avg_scores.find({})\n",
    "\n",
    "ii = 0\n",
    "for i in cursor:\n",
    "    print(i)\n",
    "    ii += 1\n",
    "    if ii == 10:\n",
    "        break"
   ]
  }
 ],
 "metadata": {
  "kernelspec": {
   "display_name": "Python 3 (ipykernel)",
   "language": "python",
   "name": "python3"
  },
  "language_info": {
   "codemirror_mode": {
    "name": "ipython",
    "version": 3
   },
   "file_extension": ".py",
   "mimetype": "text/x-python",
   "name": "python",
   "nbconvert_exporter": "python",
   "pygments_lexer": "ipython3",
   "version": "3.11.0"
  }
 },
 "nbformat": 4,
 "nbformat_minor": 5
}
