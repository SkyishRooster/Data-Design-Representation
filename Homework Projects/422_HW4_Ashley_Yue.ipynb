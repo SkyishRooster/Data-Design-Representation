{
 "cells": [
  {
   "cell_type": "markdown",
   "id": "aabcc3b0",
   "metadata": {},
   "source": [
    "## Part I\n",
    "### Preparation\n",
    "Read and understand the FlightAware code we developed in class.  If you haven’t paid full attention in DDR class 4 (very unlikely), the last 45 minutes of may be very interesting to review;  it will make part 1 a breeze.\n",
    "\n",
    "Use your browser to create a login on Planespotters.net.  Please choose a username and password that you are willing to share with us as we ask you to share your code.\n",
    "\n",
    "Verify that your login works:  start an incognito session, navigating to https://www.planespotters.net/user/login, log in, go to your profile page https://www.planespotters.net/member/profile"
   ]
  },
  {
   "cell_type": "markdown",
   "id": "8db5e039",
   "metadata": {},
   "source": [
    "### Task:\n",
    "\n",
    "Write code in Java or Python (full source code not markup) that logs into Planespotters.net and verifies that it is logged in my navigating to https://www.planespotters.net/member/profile and checking that your username is displayed on the page.  (The task at hand requires at least 2 page-requests.  I have solved it with 3 page-requests but have not tried if less page requests work as well.)"
   ]
  },
  {
   "cell_type": "markdown",
   "id": "262493d7",
   "metadata": {},
   "source": [
    "### 1. Access https://www.planespotters.net/user/login using a standard GET request. Read and store the cookies received in the response.  In addition, parse the response and read (and store to a string variable) the value of the hidden input field that will (most likely) be required in the login process."
   ]
  },
  {
   "cell_type": "code",
   "execution_count": 72,
   "id": "eafea829",
   "metadata": {},
   "outputs": [],
   "source": [
    "#!pip install selenium"
   ]
  },
  {
   "cell_type": "code",
   "execution_count": 107,
   "id": "989093d0",
   "metadata": {},
   "outputs": [],
   "source": [
    "from bs4 import BeautifulSoup\n",
    "from selenium import webdriver\n",
    "from selenium.webdriver.common.keys import Keys\n",
    "from selenium.webdriver.common.by import By\n",
    "\n",
    "import time\n",
    "import requests"
   ]
  },
  {
   "cell_type": "code",
   "execution_count": 30,
   "id": "bb897abd",
   "metadata": {},
   "outputs": [],
   "source": [
    "# Get the soup object of the website\n",
    "url = \"https://www.planespotters.net/user/login\"\n",
    "\n",
    "headers = {\"user-agent\": \"Mozilla/5.0 (Windows NT 10.0; Win64; x64) AppleWebKit/537.36 (KHTML, like Gecko) Chrome/109.0.0.0 Safari/537.36\"}\n",
    "\n",
    "s = requests.Session()\n",
    "page = s.get(url, headers = headers)\n",
    "\n",
    "soup = BeautifulSoup(page.text, 'lxml')\n",
    "\n",
    "time.sleep(3)"
   ]
  },
  {
   "cell_type": "code",
   "execution_count": 31,
   "id": "0313da34",
   "metadata": {},
   "outputs": [
    {
     "data": {
      "text/plain": [
       "[<input id=\"username\" name=\"username\" placeholder=\"Username or E-Mail\" type=\"text\"/>,\n",
       " <input id=\"password\" name=\"password\" placeholder=\"Password\" type=\"password\"/>,\n",
       " <input id=\"csrf\" name=\"csrf\" type=\"hidden\" value=\"ckhiWXpvK1h4Wm9SUlN4RDljNFRaQT09\"/>,\n",
       " <input id=\"rid\" name=\"rid\" type=\"hidden\"/>,\n",
       " <input id=\"remember\" name=\"remember\" type=\"checkbox\" value=\"yes\"/>]"
      ]
     },
     "execution_count": 31,
     "metadata": {},
     "output_type": "execute_result"
    }
   ],
   "source": [
    "# Look for the required inputs\n",
    "inputs = soup.select(\"div.panel-body input\")\n",
    "inputs"
   ]
  },
  {
   "cell_type": "code",
   "execution_count": 32,
   "id": "9eec8ddd",
   "metadata": {},
   "outputs": [
    {
     "name": "stdout",
     "output_type": "stream",
     "text": [
      "csrf:\t ckhiWXpvK1h4Wm9SUlN4RDljNFRaQT09 \n",
      "rid:\t None\n"
     ]
    }
   ],
   "source": [
    "# Assign special input values\n",
    "csrf = soup.select(\"div.panel-body input#csrf\")[0].get(\"value\")\n",
    "rid = soup.select(\"div.panel-body input#rid\")[0].get(\"value\")\n",
    "print(\"csrf:\\t\", csrf, \"\\nrid:\\t\", rid)"
   ]
  },
  {
   "cell_type": "code",
   "execution_count": 33,
   "id": "96d915c3",
   "metadata": {},
   "outputs": [
    {
     "data": {
      "text/plain": [
       "{'__psuid': '29745e37ad451c3c2cf8dd229d7cb0ad',\n",
       " 'ps_sessid': 'cmUTp7GkARuUcgktCVBHZ2Jbjj'}"
      ]
     },
     "execution_count": 33,
     "metadata": {},
     "output_type": "execute_result"
    }
   ],
   "source": [
    "# Get the cookies\n",
    "cookies = s.cookies.get_dict()\n",
    "cookies"
   ]
  },
  {
   "cell_type": "markdown",
   "id": "7a998d3d",
   "metadata": {},
   "source": [
    "### 2. Make a post request using the cookies from (1) as well as all required name-value-pairs (including your username and passwords)."
   ]
  },
  {
   "cell_type": "code",
   "execution_count": 34,
   "id": "678ecc9f",
   "metadata": {},
   "outputs": [],
   "source": [
    "# username = applejack\n",
    "# password = Iloveapples\n",
    "\n",
    "data = {\n",
    "    \"username\": \"applejack\",\n",
    "    \"password\": \"Iloveapples\",\n",
    "    \"csrf\": csrf,\n",
    "    \"rid\": rid,\n",
    "    \"remember\": \"yes\"\n",
    "}\n",
    "\n",
    "res = s.post(url, data = data, headers = headers, cookies = cookies, timeout = 10)\n",
    "\n",
    "time.sleep(4)"
   ]
  },
  {
   "cell_type": "markdown",
   "id": "604b4bc5",
   "metadata": {},
   "source": [
    "### 3. Get the cookies from the response of the post request and add them to your cookies from (1)."
   ]
  },
  {
   "cell_type": "code",
   "execution_count": 36,
   "id": "e7eb5267",
   "metadata": {},
   "outputs": [
    {
     "data": {
      "text/plain": [
       "{'__psuid': '29745e37ad451c3c2cf8dd229d7cb0ad',\n",
       " 'ps_rmt_1': 'lguj1qm7huyxb7fc%3A091ny6vss0zo3r6jfkhr0v1c7j1pevng',\n",
       " 'ps_sessid': 'e7P4VH2WWRF8z5sd6u3bbeBxi-'}"
      ]
     },
     "execution_count": 36,
     "metadata": {},
     "output_type": "execute_result"
    }
   ],
   "source": [
    "# Get the new cookies\n",
    "cookies_2 = s.cookies.get_dict()\n",
    "cookies_2"
   ]
  },
  {
   "cell_type": "code",
   "execution_count": 39,
   "id": "7feaca43",
   "metadata": {},
   "outputs": [
    {
     "data": {
      "text/plain": [
       "{'__psuid': '29745e37ad451c3c2cf8dd229d7cb0ad',\n",
       " 'ps_sessid': 'e7P4VH2WWRF8z5sd6u3bbeBxi-',\n",
       " 'ps_rmt_1': 'lguj1qm7huyxb7fc%3A091ny6vss0zo3r6jfkhr0v1c7j1pevng'}"
      ]
     },
     "execution_count": 39,
     "metadata": {},
     "output_type": "execute_result"
    }
   ],
   "source": [
    "# Combine the cookies\n",
    "cookies_3 = cookies.copy()\n",
    "cookies_3.update(cookies_2)\n",
    "cookies_3"
   ]
  },
  {
   "cell_type": "markdown",
   "id": "085a09f2",
   "metadata": {},
   "source": [
    "### 4. Verifies that you are logged in by accessing the profile page https://www.planespotters.net/member/profile with the saved cookies."
   ]
  },
  {
   "cell_type": "code",
   "execution_count": 43,
   "id": "5811b9a1",
   "metadata": {},
   "outputs": [],
   "source": [
    "# Get the new soup object\n",
    "url_v = \"https://www.planespotters.net/member/profile\"\n",
    "page_v = requests.get(url = url_v, cookies = cookies_3, headers = headers)\n",
    "soup_v = BeautifulSoup(page_v.text, 'lxml')\n",
    "\n",
    "time.sleep(3)"
   ]
  },
  {
   "cell_type": "code",
   "execution_count": 56,
   "id": "e75dc8f3",
   "metadata": {},
   "outputs": [
    {
     "name": "stdout",
     "output_type": "stream",
     "text": [
      "Success!\n"
     ]
    }
   ],
   "source": [
    "# Verify if I can log in successfully\n",
    "if \"profile\" in str(soup_v):\n",
    "    print(\"Success!\")\n",
    "else:\n",
    "    print(\"Keep trying!\")"
   ]
  },
  {
   "cell_type": "markdown",
   "id": "7380378c",
   "metadata": {},
   "source": [
    "### 5. Then, print out the following at the end:\n",
    "    A) The entire Jsoup/BeautifulSoup document of your profile page.\n",
    "    B) All (combined) cookies from (3).\n",
    "    C) A boolean value to show your username is contained in the document in part (5)(a)."
   ]
  },
  {
   "cell_type": "code",
   "execution_count": 52,
   "id": "06ce4479",
   "metadata": {},
   "outputs": [
    {
     "name": "stdout",
     "output_type": "stream",
     "text": [
      "<!DOCTYPE html>\n",
      "<html lang=\"en\">\n",
      "<head>\n",
      "<meta charset=\"utf-8\"/>\n",
      "<title>My Profile</title>\n",
      "<meta content=\"width=1080\" name=\"viewport\"/>\n",
      "<meta content=\"ie=edge\" http-equiv=\"x-ua-compatible\"/>\n",
      "<link href=\"/favicon.ico\" rel=\"shortcut icon\"/>\n",
      "<link href=\"/favicon_16.png\" rel=\"icon\" sizes=\"16x16\" type=\"image/png\"/>\n",
      "<link href=\"/favicon_64.png\" rel=\"icon\" sizes=\"64x64\" type=\"image/png\"/>\n",
      "<link href=\"/favicon_196.png\" rel=\"icon\" sizes=\"196x196\" type=\"image/png\"/>\n",
      "<link href=\"/favicon.svg\" rel=\"icon\" sizes=\"any\" type=\"image/svg+xml\"/>\n",
      "<link href=\"/apple-touch-icon.png\" rel=\"apple-touch-icon\" sizes=\"180x180\"/>\n",
      "<link color=\"#1e2837\" href=\"/static/img/safari-pinned-tab.svg\" rel=\"mask-icon\"/>\n",
      "<meta content=\"Planespotters\" name=\"application-name\"/>\n",
      "<meta content=\"#1e2837\" name=\"theme-color\"/>\n",
      "<link href=\"/site.webmanifest\" rel=\"manifest\"/>\n",
      "<script async=\"\" src=\"https://www.googletagmanager.com/gtag/js?id=G-NMJZKP0929\"></script>\n",
      "<script>\n",
      "\twindow.dataLayer = window.dataLayer || [];\n",
      "\tfunction gtag() { dataLayer.push(arguments); }\n",
      "\tgtag('consent', 'default', {\n",
      "\t\t'ad_storage': 'denied',\n",
      "\t\t'analytics_storage': 'denied',\n",
      "\t\t'wait_for_update': 1500 //milliseconds\n",
      "\t});\n",
      "\tgtag('set', 'ads_data_redaction', true);\n",
      "\tgtag('js', new Date());\n",
      "\tgtag('config', 'G-NMJZKP0929', { 'anonymize_ip': true });\n",
      "</script>\n",
      "<script async=\"async\" src=\"https://cdn-a.yieldlove.com/v2/yieldlove.js?planespotters.net\"></script>\n",
      "<link href=\"https://static4.planespotters.net/css/theme-4c730e4d48.min.css\" rel=\"stylesheet\" type=\"text/css\"/>\n",
      "<script src=\"https://static4.planespotters.net/js/planespotters-2e9a2d4db4.min.js\"></script>\n",
      "</head>\n",
      "<body class=\"bootstrap\">\n",
      "<header class=\"page__header\">\n",
      "<nav class=\"header__menu\">\n",
      "<a class=\"header__logo\" href=\"/\" name=\"top\"></a>\n",
      "<ul>\n",
      "<li class=\"submenu\">\n",
      "<a href=\"/photo/search\">Photos</a>\n",
      "<ul>\n",
      "<li><a href=\"/photos/latest\">Latest Additions</a></li>\n",
      "<li><a href=\"/photos/popular\">Most Popular</a></li>\n",
      "<li><a href=\"/photos/editorsChoice\">Editor's Choice</a></li>\n",
      "<li><a href=\"/photos/favorited\">User Favorites</a></li>\n",
      "<li><a href=\"/photos\">Photo Search</a></li>\n",
      "<li class=\"divider\"></li>\n",
      "<li><a href=\"/photo/upload\">Upload Your Photos</a></li>\n",
      "</ul>\n",
      "</li>\n",
      "<li class=\"submenu\">\n",
      "<a href=\"/production-list/index\">Aircraft</a>\n",
      "<ul>\n",
      "<li><a href=\"/production-list/index\">Production Lists</a></li>\n",
      "<li><a href=\"/deliveries\">Latest Deliveries</a></li>\n",
      "<li class=\"divider\"></li>\n",
      "<li><a href=\"/special/boeing-737-max-grounding\">Boeing 737 MAX Special</a></li>\n",
      "<li><a href=\"/special/boeing-787\">Boeing 787 Special</a></li>\n",
      "<li><a href=\"/special/an225\">Antonov An-225 Tribute</a></li>\n",
      "<li class=\"divider\"></li>\n",
      "<li><a href=\"/pro/request/quote\">Data Export</a></li>\n",
      "</ul>\n",
      "</li>\n",
      "<li class=\"submenu\">\n",
      "<a href=\"/airlines\">Airlines</a>\n",
      "<ul>\n",
      "<li><a href=\"/airlines\">Airline Index</a></li>\n",
      "<li><a href=\"/airlines/country\">Airlines by Country</a></li>\n",
      "</ul>\n",
      "</li>\n",
      "</ul>\n",
      "<form accept-charset=\"utf-8\" action=\"/search\" class=\"page__header_search\" method=\"get\">\n",
      "<input autocomplete=\"off\" id=\"q\" name=\"q\" type=\"text\"/>\n",
      "<button type=\"submit\"><i class=\"fa fa-search\"></i></button>\n",
      "</form>\n",
      "<ul>\n",
      "<li class=\"submenu submenu-left\">\n",
      "<a class=\"header__menu_profile_icon\" href=\"/member/profile\">\n",
      "<i class=\"fa fa-user-o\"></i>\n",
      "</a>\n",
      "<ul>\n",
      "<li><a href=\"/member/profile\">Profile</a></li>\n",
      "<li><a href=\"/member/profile/settings\">Settings</a></li>\n",
      "<li><a class=\"\" href=\"/member/photo/screening\">Screening Info</a></li>\n",
      "<li><a href=\"/member/photo/stats\">Photo Stats</a></li>\n",
      "<li><a href=\"/photos/favorites\">My Favorites</a></li>\n",
      "<li><a href=\"/photos/gallery/applejack\">Personal Gallery</a></li>\n",
      "<li class=\"divider\"></li>\n",
      "<li><a href=\"/user/logout\">Log Out</a></li>\n",
      "</ul>\n",
      "</li>\n",
      "</ul>\n",
      "</nav>\n",
      "</header>\n",
      "<main class=\"\" id=\"content\">\n",
      "<div class=\"container950 padding-vertical-30\">\n",
      "<div class=\"flex-row\">\n",
      "<div class=\"flex-column flex-300\">\n",
      "<div class=\"margin-30 text-center\">\n",
      "<img class=\"user__profile_picture\" height=\"200\" src=\"data:image/svg+xml,%3Csvg%20xmlns%3D%22http%3A%2F%2Fwww.w3.org%2F2000%2Fsvg%22%20viewBox%3D%220%200%201024%201024%22%20style%3D%22background%3A%23cccccc%22%3E%3Ctext%20text-anchor%3D%22middle%22%20dy%3D%22.35em%22%20x%3D%22512%22%20y%3D%22512%22%20fill%3D%22%23ffffff%22%20font-size%3D%22550%22%20font-family%3D%22-apple-system%2C%20BlinkMacSystemFont%2C%20Open%20Sans%2C%20Verdana%2C%20Helvetica%2C%20Arial%2C%20sans-serif%22%3EA%3C%2Ftext%3E%3C%2Fsvg%3E\" width=\"200\"/> </div>\n",
      "<div style=\"width: 200px; margin-left: auto; margin-right: auto;\">\n",
      "<a class=\"btn btn-flat-default-new btn-md btn-display-block member_profile__photo_upload\" href=\"/member/profile/photo\"><i class=\"fa fa-upload\"></i> Upload New Image</a>\n",
      "</div>\n",
      "</div>\n",
      "<div class=\"flex-column\">\n",
      "<h1 class=\"headline-spacer\">Profile</h1>\n",
      "<table class=\"table-light\">\n",
      "<tr>\n",
      "<th>Name</th>\n",
      "<td>Apple Jack</td>\n",
      "<td><a class=\"btn btn-flat-default btn-xs\" href=\"/member/profile/name\"><i class=\"fa fa-pencil\"></i> Edit</a></td>\n",
      "</tr>\n",
      "<tr>\n",
      "<th>Username</th>\n",
      "<td>applejack</td>\n",
      "<td><a class=\"btn btn-flat-default btn-xs\" href=\"/member/profile/username\"><i class=\"fa fa-pencil\"></i> Edit</a></td>\n",
      "</tr>\n",
      "<tr>\n",
      "<th>E-Mail</th>\n",
      "<td>asyue@ucdavis.edu</td>\n",
      "<td><a class=\"btn btn-flat-default btn-xs\" href=\"/member/profile/email\"><i class=\"fa fa-pencil\"></i> Edit</a></td>\n",
      "</tr>\n",
      "<tr>\n",
      "<th>Member since</th>\n",
      "<td>09 February 2023</td>\n",
      "<td></td>\n",
      "</tr>\n",
      "</table>\n",
      "<div class=\"margin-30\">\n",
      "<h6 class=\"heading-new-muted text-uppercase\">Password</h6>\n",
      "<a class=\"btn btn-flat-default-new btn-md\" href=\"/member/profile/password\">Change Password</a>\n",
      "</div>\n",
      "<div class=\"margin-30\">\n",
      "<h6 class=\"heading-new-muted text-uppercase\">Settings</h6>\n",
      "<a class=\"btn btn-flat-default-new btn-md\" href=\"/member/profile/settings\"><i class=\"fa fa-cog\"></i> View Settings</a>\n",
      "</div>\n",
      "<h1 class=\"headline-spacer margin\">Photos</h1>\n",
      "<div class=\"padding-20 flex-row\">\n",
      "<div class=\"flex-column stats-box text-center\">\n",
      "<h4>\n",
      "<a data-toggle=\"tooltip\" href=\"/photos/gallery/applejack\" title=\"0 Photos online\">\n",
      "<i class=\"fa fa-camera\"></i> 0                        </a>\n",
      "</h4>\n",
      "</div>\n",
      "<div class=\"flex-column stats-box text-center\">\n",
      "<h4>\n",
      "<a data-toggle=\"tooltip\" href=\"/member/photo/screening\" title=\"0 Photos in screening\">\n",
      "<i class=\"fa fa-hourglass-half\"></i> 0                        </a>\n",
      "</h4>\n",
      "</div>\n",
      "<div class=\"flex-column stats-box text-center\">\n",
      "<h4>\n",
      "<a data-toggle=\"tooltip\" href=\"/member/photo/stats\" title=\"0 Total Views\">\n",
      "<i class=\"mi mi-remove_red_eye\"></i> 0                        </a>\n",
      "</h4>\n",
      "</div>\n",
      "<div class=\"flex-column stats-box text-center\">\n",
      "<h4>\n",
      "<a data-toggle=\"tooltip\" href=\"/photos/gallery/applejack?special=favorited\" title=\"0 Photo Favorites\">\n",
      "<i class=\"fa fa-star-o\"></i> 0                        </a>\n",
      "</h4>\n",
      "</div>\n",
      "<div class=\"flex-column\">\n",
      "<a class=\"btn btn-flat-default-new btn-md\" href=\"/member/photo/stats\"><i class=\"fa fa-bar-chart\"></i> Photo Stats</a>\n",
      "</div>\n",
      "</div>\n",
      "<div class=\"margin-20\">\n",
      "<h6 class=\"heading-new-muted text-uppercase\">Upload &amp; Screening</h6>\n",
      "<table class=\"table-light\">\n",
      "<tr>\n",
      "<td width=\"30%\">\n",
      "<a class=\"btn btn-flat-default-new btn-md btn-display-block\" href=\"/photo/upload\"><i class=\"fa fa-plus\"></i> Upload Photos</a>\n",
      "</td>\n",
      "<td>\n",
      "                            Upload new photos\n",
      "                        </td>\n",
      "</tr>\n",
      "<tr>\n",
      "<td>\n",
      "<a class=\"btn btn-flat-default-new btn-md btn-display-block\" href=\"/member/photo/screening\"><i class=\"fa fa-info-circle\"></i> Screening Info</a>\n",
      "</td>\n",
      "<td>\n",
      "                            Follow along with the screening progress and check screening results.\n",
      "                        </td>\n",
      "</tr>\n",
      "<tr>\n",
      "<td>\n",
      "<a class=\"btn btn-flat-default-new btn-md btn-display-block\" href=\"/photo/reupload\"><i class=\"fa fa-repeat\"></i> Re-Upload Photos</a>\n",
      "</td>\n",
      "<td>\n",
      "                            Re-upload better versions of already accepted photos\n",
      "                        </td>\n",
      "</tr>\n",
      "</table>\n",
      "</div>\n",
      "<div class=\"margin-20\">\n",
      "<h6 class=\"heading-new-muted text-uppercase\">Manage Photos</h6>\n",
      "<table class=\"table-light\">\n",
      "<tr>\n",
      "<td width=\"30%\">\n",
      "<a class=\"btn btn-flat-default-new btn-md btn-display-block\" href=\"/photos/gallery/applejack?watermark=0\"><i class=\"fa fa-search\"></i> Watermark</a>\n",
      "</td>\n",
      "<td>\n",
      "                                Find photos without watermark\n",
      "                            </td>\n",
      "</tr>\n",
      "<tr>\n",
      "<td width=\"30%\">\n",
      "<a class=\"btn btn-flat-default-new btn-md btn-display-block\" href=\"/photos/favorites\"><i class=\"fa fa-star-o\"></i> My Favorites</a>\n",
      "</td>\n",
      "<td>\n",
      "                            Show and manage my favorites\n",
      "                        </td>\n",
      "</tr>\n",
      "</table>\n",
      "</div>\n",
      "</div>\n",
      "</div>\n",
      "</div>\n",
      "</main>\n",
      "<footer class=\"page__footer\">\n",
      "<div class=\"container950\">\n",
      "<div class=\"grid-4\">\n",
      "<div>\n",
      "<h6><a href=\"/\">Home</a></h6>\n",
      "<h6><a href=\"/about\">About</a></h6>\n",
      "<ul class=\"list-unstyled\">\n",
      "<li><a href=\"/about\">About Us</a></li>\n",
      "<li><a href=\"/help/contact\">Contact</a></li>\n",
      "</ul>\n",
      "</div>\n",
      "<div>\n",
      "<h6>Aircraft</h6>\n",
      "<ul class=\"list-unstyled\">\n",
      "<li><a href=\"/production-list/index\">Production Lists</a></li>\n",
      "<li><a href=\"/deliveries\">Deliveries</a></li>\n",
      "</ul>\n",
      "<h6 class=\"margin-top-20\">Airlines</h6>\n",
      "<ul class=\"list-unstyled\">\n",
      "<li><a href=\"/airlines\">Index</a></li>\n",
      "<li><a href=\"/airlines/country\">Country List</a></li>\n",
      "</ul>\n",
      "</div>\n",
      "<div>\n",
      "<h6>Photos</h6>\n",
      "<ul class=\"list-unstyled\">\n",
      "<li><a href=\"/photos/latest\">Latest Additions</a></li>\n",
      "<li><a href=\"/photos/top/24hrs\">Most Popular Last 24hrs</a></li>\n",
      "<li><a href=\"/photos/editorsChoice\">Editor's Choice</a></li>\n",
      "<li><a href=\"/photo/upload\">Upload Your Photos</a></li>\n",
      "</ul>\n",
      "<h6 class=\"margin-top-20\"><a href=\"/photo/api\">Photo API</a></h6>\n",
      "</div>\n",
      "<div>\n",
      "<h6>Legal</h6>\n",
      "<ul class=\"list-unstyled\">\n",
      "<li><a href=\"/legal/termsofuse\">Terms of Use</a></li>\n",
      "<li><a href=\"/legal/privacypolicy\">Privacy Policy</a></li>\n",
      "<li><a href=\"/legal/cookiepolicy\">Cookie Policy</a></li>\n",
      "<li><a class=\"\" href=\"javascript:void(0);\" onclick=\"window.yieldlove_cmp.loadPrivacyManager();\">Privacy Manager</a></li>\n",
      "</ul>\n",
      "</div>\n",
      "</div>\n",
      "<div class=\"margin-top-20\">\n",
      "<h6><a href=\"/photos/latest\">Latest Photos</a></h6>\n",
      "<div class=\"photo_large__nav_list flex-row flex-left\">\n",
      "<a class=\"photo_large__nav_list_item\" href=\"/photo/1385583/9k-ako-kuwait-airways-airbus-a320-251n?sid=41ccc8dc9b55bd891ef642175399d9de&amp;sc=0\"><img alt=\"9K-AKO | Kuwait Airways | Airbus A320-251N\" src=\"https://t.plnspttrs.net/32244/1385583_38f2c3f54a_t.jpg\"/></a>\n",
      "<a class=\"photo_large__nav_list_item\" href=\"/photo/1385582/ju-1021-miat-mongolian-airlines-boeing-767-34gerwl?sid=41ccc8dc9b55bd891ef642175399d9de&amp;sc=1\"><img alt=\"JU-1021 | MIAT - Mongolian Airlines | Boeing 767-34GER(WL)\" src=\"https://t.plnspttrs.net/36421/1385582_cadafed487_t.jpg\"/></a>\n",
      "<a class=\"photo_large__nav_list_item\" href=\"/photo/1385581/ts-imx-tunisair-airbus-a320-251n?sid=41ccc8dc9b55bd891ef642175399d9de&amp;sc=2\"><img alt=\"TS-IMX | Tunisair | Airbus A320-251N\" src=\"https://t.plnspttrs.net/24478/1385581_6b952dd6b6_t.jpg\"/></a>\n",
      "<a class=\"photo_large__nav_list_item\" href=\"/photo/1385580/oo-abf-air-belgium-airbus-a330-941?sid=41ccc8dc9b55bd891ef642175399d9de&amp;sc=3\"><img alt=\"OO-ABF | Air Belgium | Airbus A330-941\" src=\"https://t.plnspttrs.net/10150/1385580_39bcea6dfa_t.jpg\"/></a>\n",
      "<a class=\"photo_large__nav_list_item\" href=\"/photo/1385579/21-aha-private-dynaero-mcr-01-ulc-banbi?sid=41ccc8dc9b55bd891ef642175399d9de&amp;sc=4\"><img alt=\"21-AHA | Private | DynAero MCR-01 ULC Banbi\" src=\"https://t.plnspttrs.net/18198/1385579_b60e931947_t.jpg\"/></a>\n",
      "<a class=\"photo_large__nav_list_item\" href=\"/photo/1385578/oo-g53-private-dynaero-mcr-01-club?sid=41ccc8dc9b55bd891ef642175399d9de&amp;sc=5\"><img alt=\"OO-G53 | Private | DynAero MCR-01 Club\" src=\"https://t.plnspttrs.net/12810/1385578_7774d10def_t.jpg\"/></a>\n",
      "<a class=\"photo_large__nav_list_item\" href=\"/photo/1385577/oo-g40-private-dynaero-mcr-01-club?sid=41ccc8dc9b55bd891ef642175399d9de&amp;sc=6\"><img alt=\"OO-G40 | Private | DynAero MCR-01 Club\" src=\"https://t.plnspttrs.net/48779/1385577_75aff78cc8_t.jpg\"/></a>\n",
      "<a class=\"photo_large__nav_list_item\" href=\"/photo/1385576/f-phot-private-dynaero-mcr-01-club?sid=41ccc8dc9b55bd891ef642175399d9de&amp;sc=7\"><img alt=\"F-PHOT | Private | DynAero MCR-01 Club\" src=\"https://t.plnspttrs.net/34519/1385576_e8f1c8bb33_t.jpg\"/></a>\n",
      "<a class=\"photo_large__nav_list_item\" href=\"/photo/1385575/d-mjrr-private-dova-dv-1-skylark?sid=41ccc8dc9b55bd891ef642175399d9de&amp;sc=8\"><img alt=\"D-MJRR | Private | Dova DV-1 Skylark\" src=\"https://t.plnspttrs.net/03271/1385575_4b54f97fcf_t.jpg\"/></a>\n",
      "<a class=\"photo_large__nav_list_item\" href=\"/photo/1385574/d-maof-private-dallach-d4-fascination?sid=41ccc8dc9b55bd891ef642175399d9de&amp;sc=9\"><img alt=\"D-MAOF | Private | Dallach D4 Fascination\" src=\"https://t.plnspttrs.net/14839/1385574_ad920a5378_t.jpg\"/></a>\n",
      "</div> </div>\n",
      "</div>\n",
      "</footer>\n",
      "<footer class=\"page__footer page__footer_copyright\">\n",
      "<div class=\"container950 text-center\">\n",
      "<p>© Planespotters.net 2023. All rights reserved.</p>\n",
      "</div>\n",
      "</footer>\n",
      "<div class=\"loading-modal\">Loading</div>\n",
      "<script>\n",
      "\tvar _paq = window._paq = window._paq || [];\n",
      "\t/* tracker methods like \"setCustomDimension\" should be called before \"trackPageView\" */\n",
      "\t_paq.push([\"setExcludedQueryParams\", [\"p\",\"sort\",\"dir\"]]);\n",
      "\t_paq.push(['trackPageView']);\n",
      "\t_paq.push(['enableLinkTracking']);\n",
      "\t(function() {\n",
      "\t\tvar u=\"//stats.planespotters.net/\";\n",
      "\t\t_paq.push(['setTrackerUrl', u+'matomo.php']);\n",
      "\t\t_paq.push(['setSiteId', '1']);\n",
      "\t\tvar d=document, g=d.createElement('script'), s=d.getElementsByTagName('script')[0];\n",
      "\t\tg.async=true; g.src=u+'matomo.js'; s.parentNode.insertBefore(g,s);\n",
      "\t})();\n",
      "</script>\n",
      "<script>\n",
      "</script>\n",
      "<script>\n",
      "</script>\n",
      "</body>\n",
      "</html>\n"
     ]
    }
   ],
   "source": [
    "print(soup_v)"
   ]
  },
  {
   "cell_type": "code",
   "execution_count": 69,
   "id": "42f40839",
   "metadata": {},
   "outputs": [
    {
     "name": "stdout",
     "output_type": "stream",
     "text": [
      "The First cookies:\n",
      "{'__psuid': '29745e37ad451c3c2cf8dd229d7cb0ad', 'ps_sessid': 'cmUTp7GkARuUcgktCVBHZ2Jbjj'}\n",
      "\n",
      "The second cookies:\n",
      "{'__psuid': '29745e37ad451c3c2cf8dd229d7cb0ad', 'ps_rmt_1': 'lguj1qm7huyxb7fc%3A091ny6vss0zo3r6jfkhr0v1c7j1pevng', 'ps_sessid': 'e7P4VH2WWRF8z5sd6u3bbeBxi-'}\n",
      "\n",
      "The combined cookies:\n",
      "{'__psuid': '29745e37ad451c3c2cf8dd229d7cb0ad', 'ps_sessid': 'e7P4VH2WWRF8z5sd6u3bbeBxi-', 'ps_rmt_1': 'lguj1qm7huyxb7fc%3A091ny6vss0zo3r6jfkhr0v1c7j1pevng'}\n"
     ]
    }
   ],
   "source": [
    "print(\"The First cookies:\\n\"+str(cookies)+\"\\n\\nThe second cookies:\\n\"+str(cookies_2)+\"\\n\\nThe combined cookies:\\n\"+str(cookies_3))"
   ]
  },
  {
   "cell_type": "code",
   "execution_count": 55,
   "id": "e67695b2",
   "metadata": {},
   "outputs": [
    {
     "name": "stdout",
     "output_type": "stream",
     "text": [
      "True\n"
     ]
    }
   ],
   "source": [
    "print(\"applejack\" in str(soup_v))"
   ]
  },
  {
   "cell_type": "markdown",
   "id": "1fe5f5b5",
   "metadata": {},
   "source": [
    "### Tips:\n",
    "\n",
    "- Please don’t forget to set the full user agent (e.g., “Mozilla/5.0 (Windows NT 10.0; Win64; x64) AppleWebKit/537.36 (KHTML, like Gecko) Chrome/88.0.4324.96 Safari/537.36 Edg/88.0.705.56”) in all of your requests.\n",
    "- Please make sure that you don’t forget to set all hidden input-tag values when trying to log in (there might be one called “csrf” that may be important to set).\n",
    " \n",
    "\n",
    "**Please submit two files**:  your source code “part1_source.[py OR java]” (source code not markup) as well as a copy of your screen print “part1_screen.txt”."
   ]
  },
  {
   "cell_type": "markdown",
   "id": "01eb6ee6",
   "metadata": {},
   "source": [
    "## Part II\n",
    "### 1. please get Selenium to work on your system. e., try to code something up in Java or Python that starts a browser of your choice, navigates to google.com, and searches for \"askew\" as well as \"google in 1998\" (separate searches!)"
   ]
  },
  {
   "cell_type": "code",
   "execution_count": 105,
   "id": "58344781",
   "metadata": {},
   "outputs": [
    {
     "name": "stderr",
     "output_type": "stream",
     "text": [
      "C:\\Users\\59699\\AppData\\Local\\Temp\\ipykernel_2228\\3692539215.py:2: DeprecationWarning: executable_path has been deprecated, please pass in a Service object\n",
      "  driver = webdriver.Chrome(executable_path='C:\\ChromeDownloads\\chromedriver_win32\\chromedriver.exe')\n"
     ]
    }
   ],
   "source": [
    "# Get the driver work and navigate to google.com\n",
    "driver = webdriver.Chrome(executable_path='C:\\ChromeDownloads\\chromedriver_win32\\chromedriver.exe')\n",
    "driver.implicitly_wait(10)\n",
    "driver.set_script_timeout(120)\n",
    "driver.set_page_load_timeout(10)\n",
    "\n",
    "driver.get(\"https://google.com\")"
   ]
  },
  {
   "cell_type": "code",
   "execution_count": 109,
   "id": "2ffdbda0",
   "metadata": {},
   "outputs": [],
   "source": [
    "# Search for \"askew\"\n",
    "inp = driver.find_element(By.CSS_SELECTOR, \"input[type=text]\")\n",
    "\n",
    "inp.send_keys(\"askew\\n\")\n",
    "\n",
    "time.sleep(3)"
   ]
  },
  {
   "cell_type": "code",
   "execution_count": 110,
   "id": "8d47b179",
   "metadata": {},
   "outputs": [],
   "source": [
    "# Search for \"google in 1998\"\n",
    "inp = driver.find_element(By.CSS_SELECTOR, \"input[type=text]\")\n",
    "\n",
    "inp.clear()\n",
    "inp.send_keys(\"google in 1998\\n\")\n",
    "\n",
    "time.sleep(5)"
   ]
  },
  {
   "cell_type": "markdown",
   "id": "04486f57",
   "metadata": {},
   "source": [
    "### 2. write a script that goes to bestbuy.com, clicks on Deal of the Day, reads how much time is left for the Deal of the Day and prints the remaining time to screen (console), clicks on the Deal of the Day (the actual product), clicks on its reviews, and saves the resulting HTML to your local hard drive as \"bestbuy_deal_of_the_day.htm\""
   ]
  },
  {
   "cell_type": "code",
   "execution_count": 111,
   "id": "734ae15d",
   "metadata": {},
   "outputs": [],
   "source": [
    "# Go to bestbuy.com\n",
    "driver.get(\"https://www.bestbuy.com/\")"
   ]
  },
  {
   "cell_type": "code",
   "execution_count": 112,
   "id": "b1e443ab",
   "metadata": {},
   "outputs": [],
   "source": [
    "# Click on Deal of the Day\n",
    "deal = driver.find_element(By.XPATH, \"//a[text()='Deal of the Day']\")\n",
    "deal.click()\n",
    "\n",
    "time.sleep(3)"
   ]
  },
  {
   "cell_type": "code",
   "execution_count": 113,
   "id": "6c5dce66",
   "metadata": {},
   "outputs": [
    {
     "name": "stdout",
     "output_type": "stream",
     "text": [
      "Sale expires in 19 hours and 52 minutes\n",
      "Exact remaining time:\n",
      "19 hour(s) 51 minute(s) 48 second(s)\n"
     ]
    }
   ],
   "source": [
    "# Read how much time is left for the Deal of the Day\n",
    "timeleft = driver.find_element(By.CSS_SELECTOR, \"div.sr-only.sale-timer\").text\n",
    "\n",
    "hour = driver.find_element(By.CSS_SELECTOR, \"span.hours.cdnumber\").text\n",
    "minute = driver.find_element(By.CSS_SELECTOR, \"span.minutes.cdnumber\").text\n",
    "second = driver.find_element(By.CSS_SELECTOR, \"span.seconds.cdnumber\").text\n",
    "\n",
    "# Print the remaining time to screen\n",
    "print(timeleft)\n",
    "print(\"Exact remaining time:\\n\" + hour, \"hour(s)\", minute, \"minute(s)\", second, \"second(s)\")"
   ]
  },
  {
   "cell_type": "code",
   "execution_count": 114,
   "id": "d9636aea",
   "metadata": {},
   "outputs": [],
   "source": [
    "# Click on the actual product\n",
    "prod = driver.find_element(By.TAG_NAME, 'h1')\n",
    "prod.click()\n",
    "\n",
    "time.sleep(3)"
   ]
  },
  {
   "cell_type": "code",
   "execution_count": 115,
   "id": "60074d36",
   "metadata": {},
   "outputs": [],
   "source": [
    "# Click on its reviews\n",
    "reviews = driver.find_element(By.CSS_SELECTOR, \"span.c-reviews.order-2\")\n",
    "reviews.click()"
   ]
  },
  {
   "cell_type": "code",
   "execution_count": 116,
   "id": "65c37167",
   "metadata": {},
   "outputs": [],
   "source": [
    "# Save the resulting HTML as \"bestbuy_deal_of_the_day.htm\"\n",
    "bb = driver.page_source\n",
    "with open (\"bestbuy_deal_of_the_day.htm\", \"w\", encoding = \"utf-8\") as file:\n",
    "    file.write(bb)\n",
    "\n",
    "driver.quit()"
   ]
  },
  {
   "cell_type": "markdown",
   "id": "b52972a6",
   "metadata": {},
   "source": [
    "### Tips:\n",
    "Please ensure that there are proper delays after each website interaction. \n",
    "\n",
    "In part 2, please submit 2 screenshots (JPGs) for (1)    and    one .py or .java file, one text file containing the console output, and the bestbuy_deal_of_the_day.htm for (2)."
   ]
  }
 ],
 "metadata": {
  "kernelspec": {
   "display_name": "Python 3 (ipykernel)",
   "language": "python",
   "name": "python3"
  },
  "language_info": {
   "codemirror_mode": {
    "name": "ipython",
    "version": 3
   },
   "file_extension": ".py",
   "mimetype": "text/x-python",
   "name": "python",
   "nbconvert_exporter": "python",
   "pygments_lexer": "ipython3",
   "version": "3.9.13"
  }
 },
 "nbformat": 4,
 "nbformat_minor": 5
}
